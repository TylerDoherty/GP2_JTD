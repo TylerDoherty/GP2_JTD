{
 "cells": [
  {
   "cell_type": "code",
   "execution_count": 4,
   "id": "ffc999c0",
   "metadata": {},
   "outputs": [
    {
     "name": "stdout",
     "output_type": "stream",
     "text": [
      "Welcome to the amazing Tyler Doherty's Hangman!\n",
      "\n",
      "____\n",
      "Guess a letter: T\n",
      "Incorrect! You have 5 attempts left.\n",
      "\n",
      "____\n",
      "Guess a letter: H\n",
      "Incorrect! You have 4 attempts left.\n",
      "\n",
      "____\n",
      "Guess a letter: C\n",
      "Correct!\n",
      "\n",
      "c___\n",
      "Guess a letter: o\n",
      "Correct!\n",
      "\n",
      "co__\n",
      "Guess a letter: d\n",
      "Correct!\n",
      "\n",
      "cod_\n",
      "Guess a letter: e\n",
      "Correct!\n",
      "Congratulations! You've guessed the word: code\n"
     ]
    }
   ],
   "source": [
    "import random\n",
    "\n",
    "def choose_word():\n",
    "    words = [\"tyler\", \"code\", \"programming\", \"challenge\", \"hangman\"]\n",
    "    return random.choice(words)\n",
    "\n",
    "def display_word(word, guessed_letters):\n",
    "    display = \"\"\n",
    "    for letter in word:\n",
    "        if letter in guessed_letters:\n",
    "            display += letter\n",
    "        else:\n",
    "            display += \"_\"\n",
    "    return display\n",
    "\n",
    "def hangman():\n",
    "    print(\"Welcome to the amazing Tyler Doherty's Hangman!\")\n",
    "    \n",
    "    word_to_guess = choose_word()\n",
    "    guessed_letters = []\n",
    "    attempts = 6  # Number of incorrect attempts allowed\n",
    "    \n",
    "    while attempts > 0:\n",
    "        print(\"\\n\" + display_word(word_to_guess, guessed_letters))\n",
    "        guess = input(\"Guess a letter: \").lower()\n",
    "\n",
    "        if len(guess) != 1 or not guess.isalpha():\n",
    "            print(\"Please enter a valid single letter.\")\n",
    "            continue\n",
    "\n",
    "        if guess in guessed_letters:\n",
    "            print(\"You've already guessed that letter. Try again.\")\n",
    "            continue\n",
    "\n",
    "        guessed_letters.append(guess)\n",
    "\n",
    "        if guess not in word_to_guess:\n",
    "            attempts -= 1\n",
    "            print(f\"Incorrect! You have {attempts} attempts left.\")\n",
    "        else:\n",
    "            print(\"Correct!\")\n",
    "\n",
    "        if all(letter in guessed_letters for letter in word_to_guess):\n",
    "            print(\"Congratulations! You've guessed the word:\", word_to_guess)\n",
    "            break\n",
    "\n",
    "    if attempts == 0:\n",
    "        print(\"Sorry, you're out of attempts. The word was:\", word_to_guess)\n",
    "\n",
    "if __name__ == \"__main__\":\n",
    "    hangman()\n"
   ]
  }
 ],
 "metadata": {
  "kernelspec": {
   "display_name": "Python 3 (ipykernel)",
   "language": "python",
   "name": "python3"
  },
  "language_info": {
   "codemirror_mode": {
    "name": "ipython",
    "version": 3
   },
   "file_extension": ".py",
   "mimetype": "text/x-python",
   "name": "python",
   "nbconvert_exporter": "python",
   "pygments_lexer": "ipython3",
   "version": "3.11.4"
  }
 },
 "nbformat": 4,
 "nbformat_minor": 5
}
